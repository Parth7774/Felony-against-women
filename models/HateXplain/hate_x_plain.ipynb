{
 "cells": [
  {
   "cell_type": "code",
   "execution_count": 1,
   "id": "f58b2afb-a1f2-4625-935a-e0d1fe59b534",
   "metadata": {},
   "outputs": [],
   "source": [
    "from transformers import AutoTokenizer, AutoModelForSequenceClassification\n",
    "import numpy as np\n",
    "import pandas as pd\n",
    "from sklearn.metrics import classification_report\n",
    "import torch"
   ]
  },
  {
   "cell_type": "code",
   "execution_count": 2,
   "id": "717b53e9-9e20-4085-945e-93449ebd8c3e",
   "metadata": {},
   "outputs": [],
   "source": [
    "tokenizer = AutoTokenizer.from_pretrained(\"Hate-speech-CNERG/bert-base-uncased-hatexplain\")\n",
    "model = AutoModelForSequenceClassification.from_pretrained(\"Hate-speech-CNERG/bert-base-uncased-hatexplain\")\n",
    "categories = {0: 'hate', 1: 'normal', 2: 'offensive'}"
   ]
  },
  {
   "cell_type": "code",
   "execution_count": 3,
   "id": "212cb558-221c-4147-9e7b-53dbbf3549d1",
   "metadata": {},
   "outputs": [],
   "source": [
    "u = 'go fuck yourself asshole'\n",
    "inputs = tokenizer(u, return_tensors=\"pt\")\n",
    "labels = torch.tensor([1]).unsqueeze(0)  # Batch size 1\n",
    "outputs = model(**inputs, labels=labels)\n",
    "label = categories[np.argmax(outputs.logits.softmax(dim=-1).tolist())]"
   ]
  },
  {
   "cell_type": "code",
   "execution_count": 4,
   "id": "c9704301-dc02-4e2b-bb2c-d68728bc1e76",
   "metadata": {},
   "outputs": [
    {
     "data": {
      "text/plain": [
       "[[0.0731307715177536, 0.35753580927848816, 0.5693334341049194]]"
      ]
     },
     "execution_count": 4,
     "metadata": {},
     "output_type": "execute_result"
    }
   ],
   "source": [
    "outputs.logits.softmax(dim=-1).tolist()"
   ]
  },
  {
   "cell_type": "code",
   "execution_count": 5,
   "id": "6fb578d1-7d7e-423c-926a-05aa1faa665b",
   "metadata": {},
   "outputs": [
    {
     "data": {
      "text/plain": [
       "'offensive'"
      ]
     },
     "execution_count": 5,
     "metadata": {},
     "output_type": "execute_result"
    }
   ],
   "source": [
    "label"
   ]
  },
  {
   "cell_type": "code",
   "execution_count": 6,
   "id": "9ae6a167-a917-4c2d-aa95-beb062dd6dd6",
   "metadata": {},
   "outputs": [],
   "source": [
    "def get_classifications_results(df):\n",
    "    \n",
    "    df = df.copy()\n",
    "    labels_all = df.majority_answer.values\n",
    "    predicted_all = df.label_hateexplain.values\n",
    "\n",
    "    results_classification = classification_report(labels_all, predicted_all, output_dict=True)\n",
    "        \n",
    "    \n",
    "    df_report = pd.DataFrame(results_classification).transpose()\n",
    "    \n",
    "    return df_report"
   ]
  },
  {
   "cell_type": "code",
   "execution_count": 7,
   "id": "bd690e77-3345-464e-a760-d7108a5b196c",
   "metadata": {},
   "outputs": [],
   "source": [
    "def annotate_df(movie_df):\n",
    "    result = []\n",
    "    utterances = movie_df.text.values\n",
    "    \n",
    "    for i, u in enumerate(utterances):\n",
    "        inputs = tokenizer(u, return_tensors=\"pt\")\n",
    "        labels = torch.tensor([1]).unsqueeze(0)  # Batch size 1\n",
    "        outputs = model(**inputs, labels=labels)\n",
    "        label = categories[np.argmax(outputs.logits.softmax(dim=-1).tolist())]\n",
    "        \n",
    "        result.append({'index': i, 'label_hateexplain': label})\n",
    "    \n",
    "    result_df = pd.DataFrame(result)\n",
    "    movie_df = movie_df.merge(result_df, right_index=True, left_index=True)\n",
    "    \n",
    "    return movie_df"
   ]
  },
  {
   "cell_type": "code",
   "execution_count": 8,
   "id": "a86750e1-d88f-4ccf-b716-3ad971afc7cf",
   "metadata": {},
   "outputs": [],
   "source": [
    "path = r'E:\\github\\movie_hatespeech_detection\\data\\movies_for_training\\all_movies.csv'\n",
    "movie_data = pd.read_csv(path, index_col=0)"
   ]
  },
  {
   "cell_type": "code",
   "execution_count": 9,
   "id": "16fd2883-744b-4f99-a91e-03e95f91af91",
   "metadata": {},
   "outputs": [],
   "source": [
    "result_df = annotate_df(movie_data)"
   ]
  },
  {
   "cell_type": "code",
   "execution_count": 10,
   "id": "e365a0c2-052b-4965-ad82-ce794a6bff65",
   "metadata": {},
   "outputs": [],
   "source": [
    "result_df['label_hateexplain'] = result_df['label_hateexplain'].replace({'normal': 0, 'offensive': 1, 'hate': 2})"
   ]
  },
  {
   "cell_type": "code",
   "execution_count": 11,
   "id": "de6165fa-5995-4904-9f69-e0d6277c0f07",
   "metadata": {},
   "outputs": [
    {
     "data": {
      "text/plain": [
       "0    0.943301\n",
       "1    0.035647\n",
       "2    0.021052\n",
       "Name: label_hateexplain, dtype: float64"
      ]
     },
     "execution_count": 11,
     "metadata": {},
     "output_type": "execute_result"
    }
   ],
   "source": [
    "result_df.label_hateexplain.value_counts(normalize=True)"
   ]
  },
  {
   "cell_type": "code",
   "execution_count": 12,
   "id": "b935e771-cc6b-4761-881b-05bb4784fb97",
   "metadata": {},
   "outputs": [
    {
     "data": {
      "text/html": [
       "<div>\n",
       "<style scoped>\n",
       "    .dataframe tbody tr th:only-of-type {\n",
       "        vertical-align: middle;\n",
       "    }\n",
       "\n",
       "    .dataframe tbody tr th {\n",
       "        vertical-align: top;\n",
       "    }\n",
       "\n",
       "    .dataframe thead th {\n",
       "        text-align: right;\n",
       "    }\n",
       "</style>\n",
       "<table border=\"1\" class=\"dataframe\">\n",
       "  <thead>\n",
       "    <tr style=\"text-align: right;\">\n",
       "      <th></th>\n",
       "      <th>precision</th>\n",
       "      <th>recall</th>\n",
       "      <th>f1-score</th>\n",
       "      <th>support</th>\n",
       "    </tr>\n",
       "  </thead>\n",
       "  <tbody>\n",
       "    <tr>\n",
       "      <th>0</th>\n",
       "      <td>0.88</td>\n",
       "      <td>0.98</td>\n",
       "      <td>0.93</td>\n",
       "      <td>9014.00</td>\n",
       "    </tr>\n",
       "    <tr>\n",
       "      <th>1</th>\n",
       "      <td>0.62</td>\n",
       "      <td>0.17</td>\n",
       "      <td>0.27</td>\n",
       "      <td>1380.00</td>\n",
       "    </tr>\n",
       "    <tr>\n",
       "      <th>2</th>\n",
       "      <td>0.89</td>\n",
       "      <td>0.68</td>\n",
       "      <td>0.77</td>\n",
       "      <td>294.00</td>\n",
       "    </tr>\n",
       "    <tr>\n",
       "      <th>accuracy</th>\n",
       "      <td>0.87</td>\n",
       "      <td>0.87</td>\n",
       "      <td>0.87</td>\n",
       "      <td>0.87</td>\n",
       "    </tr>\n",
       "    <tr>\n",
       "      <th>macro avg</th>\n",
       "      <td>0.80</td>\n",
       "      <td>0.61</td>\n",
       "      <td>0.66</td>\n",
       "      <td>10688.00</td>\n",
       "    </tr>\n",
       "    <tr>\n",
       "      <th>weighted avg</th>\n",
       "      <td>0.85</td>\n",
       "      <td>0.87</td>\n",
       "      <td>0.84</td>\n",
       "      <td>10688.00</td>\n",
       "    </tr>\n",
       "  </tbody>\n",
       "</table>\n",
       "</div>"
      ],
      "text/plain": [
       "              precision  recall  f1-score   support\n",
       "0                  0.88    0.98      0.93   9014.00\n",
       "1                  0.62    0.17      0.27   1380.00\n",
       "2                  0.89    0.68      0.77    294.00\n",
       "accuracy           0.87    0.87      0.87      0.87\n",
       "macro avg          0.80    0.61      0.66  10688.00\n",
       "weighted avg       0.85    0.87      0.84  10688.00"
      ]
     },
     "execution_count": 12,
     "metadata": {},
     "output_type": "execute_result"
    }
   ],
   "source": [
    "get_classifications_results(result_df).round(2)"
   ]
  },
  {
   "cell_type": "code",
   "execution_count": 13,
   "id": "0d4825bb-7fb6-4ffb-b87b-78b594282a59",
   "metadata": {},
   "outputs": [
    {
     "data": {
      "text/plain": [
       "0    0.943301\n",
       "1    0.035647\n",
       "2    0.021052\n",
       "Name: label_hateexplain, dtype: float64"
      ]
     },
     "execution_count": 13,
     "metadata": {},
     "output_type": "execute_result"
    }
   ],
   "source": [
    "result_df.label_hateexplain.value_counts(normalize=True)"
   ]
  },
  {
   "cell_type": "code",
   "execution_count": 14,
   "id": "d00345f2-99d9-4536-aeaa-30cefe340ab9",
   "metadata": {},
   "outputs": [
    {
     "data": {
      "text/html": [
       "<div>\n",
       "<style scoped>\n",
       "    .dataframe tbody tr th:only-of-type {\n",
       "        vertical-align: middle;\n",
       "    }\n",
       "\n",
       "    .dataframe tbody tr th {\n",
       "        vertical-align: top;\n",
       "    }\n",
       "\n",
       "    .dataframe thead th {\n",
       "        text-align: right;\n",
       "    }\n",
       "</style>\n",
       "<table border=\"1\" class=\"dataframe\">\n",
       "  <thead>\n",
       "    <tr style=\"text-align: right;\">\n",
       "      <th></th>\n",
       "      <th>precision</th>\n",
       "      <th>recall</th>\n",
       "      <th>f1-score</th>\n",
       "      <th>support</th>\n",
       "    </tr>\n",
       "  </thead>\n",
       "  <tbody>\n",
       "    <tr>\n",
       "      <th>0</th>\n",
       "      <td>0.88</td>\n",
       "      <td>0.98</td>\n",
       "      <td>0.93</td>\n",
       "      <td>9014.00</td>\n",
       "    </tr>\n",
       "    <tr>\n",
       "      <th>1</th>\n",
       "      <td>0.62</td>\n",
       "      <td>0.17</td>\n",
       "      <td>0.27</td>\n",
       "      <td>1380.00</td>\n",
       "    </tr>\n",
       "    <tr>\n",
       "      <th>2</th>\n",
       "      <td>0.89</td>\n",
       "      <td>0.68</td>\n",
       "      <td>0.77</td>\n",
       "      <td>294.00</td>\n",
       "    </tr>\n",
       "    <tr>\n",
       "      <th>accuracy</th>\n",
       "      <td>0.87</td>\n",
       "      <td>0.87</td>\n",
       "      <td>0.87</td>\n",
       "      <td>0.87</td>\n",
       "    </tr>\n",
       "    <tr>\n",
       "      <th>macro avg</th>\n",
       "      <td>0.80</td>\n",
       "      <td>0.61</td>\n",
       "      <td>0.66</td>\n",
       "      <td>10688.00</td>\n",
       "    </tr>\n",
       "    <tr>\n",
       "      <th>weighted avg</th>\n",
       "      <td>0.85</td>\n",
       "      <td>0.87</td>\n",
       "      <td>0.84</td>\n",
       "      <td>10688.00</td>\n",
       "    </tr>\n",
       "  </tbody>\n",
       "</table>\n",
       "</div>"
      ],
      "text/plain": [
       "              precision  recall  f1-score   support\n",
       "0                  0.88    0.98      0.93   9014.00\n",
       "1                  0.62    0.17      0.27   1380.00\n",
       "2                  0.89    0.68      0.77    294.00\n",
       "accuracy           0.87    0.87      0.87      0.87\n",
       "macro avg          0.80    0.61      0.66  10688.00\n",
       "weighted avg       0.85    0.87      0.84  10688.00"
      ]
     },
     "execution_count": 14,
     "metadata": {},
     "output_type": "execute_result"
    }
   ],
   "source": [
    "get_classifications_results(result_df).round(2)"
   ]
  },
  {
   "cell_type": "code",
   "execution_count": 15,
   "id": "271719c5-94b6-4595-a1b9-9a982e23f8cd",
   "metadata": {},
   "outputs": [
    {
     "data": {
      "text/plain": [
       "1.9700000000000002"
      ]
     },
     "execution_count": 15,
     "metadata": {},
     "output_type": "execute_result"
    }
   ],
   "source": [
    "0.93 + 0.27 + 0.77"
   ]
  },
  {
   "cell_type": "code",
   "execution_count": 16,
   "id": "154984c6-75e7-482c-a957-96ae6a7e93ed",
   "metadata": {},
   "outputs": [
    {
     "data": {
      "text/plain": [
       "0.6566666666666666"
      ]
     },
     "execution_count": 16,
     "metadata": {},
     "output_type": "execute_result"
    }
   ],
   "source": [
    "1.97 / 3"
   ]
  },
  {
   "cell_type": "code",
   "execution_count": null,
   "id": "0c66c701-a812-4470-944d-ed412bbcd1b9",
   "metadata": {},
   "outputs": [],
   "source": []
  }
 ],
 "metadata": {
  "kernelspec": {
   "display_name": "Python 3",
   "language": "python",
   "name": "python3"
  },
  "language_info": {
   "codemirror_mode": {
    "name": "ipython",
    "version": 3
   },
   "file_extension": ".py",
   "mimetype": "text/x-python",
   "name": "python",
   "nbconvert_exporter": "python",
   "pygments_lexer": "ipython3",
   "version": "3.8.11"
  }
 },
 "nbformat": 4,
 "nbformat_minor": 5
}
