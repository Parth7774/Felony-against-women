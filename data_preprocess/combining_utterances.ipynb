{
 "cells": [
  {
   "cell_type": "markdown",
   "id": "printable-keeping",
   "metadata": {},
   "source": [
    "# Here we weant to combine utterances using sentence ending match, single utterances etc"
   ]
  },
  {
   "cell_type": "code",
   "execution_count": 1,
   "id": "b0fafc0b",
   "metadata": {},
   "outputs": [
    {
     "name": "stdout",
     "output_type": "stream",
     "text": [
      "Requirement already satisfied: pandas in c:\\users\\hp\\appdata\\local\\programs\\python\\python310\\lib\\site-packages (2.2.3)\n",
      "Requirement already satisfied: tzdata>=2022.7 in c:\\users\\hp\\appdata\\local\\programs\\python\\python310\\lib\\site-packages (from pandas) (2025.1)\n",
      "Requirement already satisfied: pytz>=2020.1 in c:\\users\\hp\\appdata\\local\\programs\\python\\python310\\lib\\site-packages (from pandas) (2025.1)\n",
      "Requirement already satisfied: numpy>=1.22.4 in c:\\users\\hp\\appdata\\local\\programs\\python\\python310\\lib\\site-packages (from pandas) (2.0.2)\n",
      "Requirement already satisfied: python-dateutil>=2.8.2 in c:\\users\\hp\\appdata\\roaming\\python\\python310\\site-packages (from pandas) (2.8.2)\n",
      "Requirement already satisfied: six>=1.5 in c:\\users\\hp\\appdata\\roaming\\python\\python310\\site-packages (from python-dateutil>=2.8.2->pandas) (1.16.0)\n",
      "Note: you may need to restart the kernel to use updated packages.\n"
     ]
    },
    {
     "name": "stderr",
     "output_type": "stream",
     "text": [
      "\n",
      "[notice] A new release of pip available: 22.2.1 -> 25.0.1\n",
      "[notice] To update, run: python.exe -m pip install --upgrade pip\n"
     ]
    }
   ],
   "source": [
    "pip install pandas"
   ]
  },
  {
   "cell_type": "code",
   "execution_count": 2,
   "id": "genuine-builder",
   "metadata": {},
   "outputs": [],
   "source": [
    "import pandas as pd\n",
    "import re\n",
    "import numpy as np\n",
    "import glob"
   ]
  },
  {
   "cell_type": "code",
   "execution_count": 3,
   "id": "martial-blood",
   "metadata": {},
   "outputs": [],
   "source": [
    "def cleanse_dialogs(df):\n",
    "    \n",
    "    # limit to only ASCII characters\n",
    "    df['dialog'] = df['dialog'].apply(lambda x: ''.join([\" \" if ord(i) < 32 or ord(i) > 126 else i for i in x]))\n",
    "    \n",
    "    # remove html tags \n",
    "    df = df.replace(r'<.*?>', '', regex=True)\n",
    "    \n",
    "    # remove expressions\n",
    "    df = df.replace(r'\\[[A-Z ,]*\\]', '', regex=True)\n",
    "    \n",
    "    # remove only non-char dialogs\n",
    "    df = df.replace(r'^\\W+$', '', regex=True)\n",
    "    \n",
    "    # remove # in dialogs\n",
    "    df = df.replace(r'#', '', regex=True)\n",
    "    \n",
    "    # remove empty lines\n",
    "    df.replace(\"\", np.nan, inplace=True)\n",
    "    df = df.dropna()\n",
    "    \n",
    "    \n",
    "    return df"
   ]
  },
  {
   "cell_type": "code",
   "execution_count": 4,
   "id": "electronic-portfolio",
   "metadata": {},
   "outputs": [],
   "source": [
    "def combine_dialogs_as_sentences(df):\n",
    "    count=0\n",
    "    combine_rows = []\n",
    "    result_arr = []\n",
    "    combine_dialogs = []\n",
    "    combine_start_time = []\n",
    "    combine_end_time = []\n",
    "    combine_nummber_of_dialog = []\n",
    "    is_ending = False\n",
    "\n",
    "    for index, row in df.iterrows():\n",
    "        number_of_dialog = row.number_of_dialog\n",
    "        start_time = row.start_time\n",
    "        end_time = row.end_time\n",
    "        dialog = row.dialog\n",
    "\n",
    "        if any(x in row.dialog[-1] for x in ['.', '!', '?']):\n",
    "            is_ending = True\n",
    "            combine_dialogs.append(dialog)\n",
    "            combine_start_time.append(start_time)\n",
    "            combine_end_time.append(end_time)\n",
    "            combine_nummber_of_dialog.append(str(number_of_dialog))\n",
    "        else:\n",
    "            combine_dialogs.append(dialog)\n",
    "            combine_start_time.append(start_time)\n",
    "            combine_end_time.append(end_time)\n",
    "            combine_nummber_of_dialog.append(str(number_of_dialog))\n",
    "\n",
    "\n",
    "        if is_ending:\n",
    "            if len(combine_dialogs)>0:\n",
    "                dialog = ' '.join(combine_dialogs)\n",
    "                start_time = combine_start_time[0]\n",
    "                end_time = combine_end_time[-1]\n",
    "                number_of_dialog = '_'.join(combine_nummber_of_dialog)\n",
    "\n",
    "                combine_dialogs = []\n",
    "                combine_start_time = []\n",
    "                combine_end_time = []\n",
    "                combine_nummber_of_dialog = []\n",
    "                is_ending = False\n",
    "\n",
    "\n",
    "        if len(combine_dialogs) < 1:\n",
    "            result_arr.append({\"number_of_dialog\":number_of_dialog, \"start_time\": start_time, \"end_time\": end_time, \"dialog\": dialog})\n",
    "            \n",
    "    result_df = pd.DataFrame(result_arr)\n",
    "    return result_df"
   ]
  },
  {
   "cell_type": "code",
   "execution_count": 5,
   "id": "saving-vegetation",
   "metadata": {},
   "outputs": [],
   "source": [
    "# reduce single word utterances\n",
    "\n",
    "def combine_one_word_dialog(df):\n",
    "    count=0\n",
    "    result_arr = []\n",
    "    combine_dialogs = []\n",
    "    combine_start_time = []\n",
    "    combine_end_time = []\n",
    "    combine_number_of_dialog = []\n",
    "    is_two_word = False\n",
    "\n",
    "    for index, row in df.iterrows():\n",
    "        number_of_dialog = row.number_of_dialog\n",
    "        start_time = row.start_time\n",
    "        end_time = row.end_time\n",
    "        dialog = row.dialog\n",
    "\n",
    "        if re.match(r\"^ *[A-Za-z-,'0-9&!?.]* *[!.?]* *$\",dialog):    # 1 word\n",
    "#         if re.match(r\"^ *[A-Za-z-,'0-9&!?.]* ?[A-Za-z-'0-9]* *[!.?]* *$\",dialog): # 2 word\n",
    "            combine_dialogs.append(dialog)\n",
    "            combine_start_time.append(start_time)\n",
    "            combine_end_time.append(end_time)\n",
    "            combine_number_of_dialog.append(str(number_of_dialog))\n",
    "        else:\n",
    "            is_two_word = False\n",
    "            combine_dialogs.append(dialog)\n",
    "            combine_start_time.append(start_time)\n",
    "            combine_end_time.append(end_time)\n",
    "            combine_number_of_dialog.append(str(number_of_dialog))\n",
    "\n",
    "\n",
    "        if not is_two_word:\n",
    "            if len(combine_dialogs)>0:\n",
    "                dialog = ' '.join(combine_dialogs)\n",
    "                start_time = combine_start_time[0]\n",
    "                end_time = combine_end_time[-1]\n",
    "                number_of_dialog = '_'.join(combine_number_of_dialog)\n",
    "\n",
    "                combine_dialogs = []\n",
    "                combine_start_time = []\n",
    "                combine_end_time = []\n",
    "                combine_number_of_dialog = []\n",
    "                is_two_word = True\n",
    "\n",
    "\n",
    "        if len(combine_dialogs) < 1:\n",
    "            result_arr.append({\"number_of_dialog\":number_of_dialog, \"start_time\": start_time, \"end_time\": end_time, \"dialog\": dialog})\n",
    "            \n",
    "    result_df = pd.DataFrame(result_arr)\n",
    "    return result_df"
   ]
  },
  {
   "cell_type": "code",
   "execution_count": 6,
   "id": "nuclear-mexican",
   "metadata": {},
   "outputs": [],
   "source": [
    "def main(path, destination):\n",
    "    for filename in glob.glob(path+'*.csv'):\n",
    "        print(filename)\n",
    "        movie_df = pd.read_csv(filename)\n",
    "        movie_df = cleanse_dialogs(movie_df)\n",
    "        movie_df = combine_dialogs_as_sentences(movie_df)\n",
    "        movie_df = combine_one_word_dialog(movie_df)\n",
    "    \n",
    "        movie_df.to_csv(destination + '/' + filename.split('\\\\')[-1].split('.')[0] + '.csv')"
   ]
  },
  {
   "cell_type": "code",
   "execution_count": 7,
   "id": "horizontal-graphics",
   "metadata": {},
   "outputs": [
    {
     "name": "stdout",
     "output_type": "stream",
     "text": [
      "SRT_TO_CSV\\American History X (1998).csv\n",
      "SRT_TO_CSV\\BlacKkKlansman (2018)23.csv\n",
      "SRT_TO_CSV\\Django.csv\n",
      "SRT_TO_CSV\\Pulp.csv\n",
      "SRT_TO_CSV\\South.csv\n",
      "SRT_TO_CSV\\The Wolf of Wall Street 2013 BluRay.csv\n"
     ]
    }
   ],
   "source": [
    "main(path=\"SRT_TO_CSV/\", destination='CSV_combined_dialogs')"
   ]
  },
  {
   "cell_type": "code",
   "execution_count": null,
   "id": "stuck-receipt",
   "metadata": {},
   "outputs": [],
   "source": []
  }
 ],
 "metadata": {
  "kernelspec": {
   "display_name": "Python 3",
   "language": "python",
   "name": "python3"
  },
  "language_info": {
   "codemirror_mode": {
    "name": "ipython",
    "version": 3
   },
   "file_extension": ".py",
   "mimetype": "text/x-python",
   "name": "python",
   "nbconvert_exporter": "python",
   "pygments_lexer": "ipython3",
   "version": "3.10.6"
  }
 },
 "nbformat": 4,
 "nbformat_minor": 5
}
