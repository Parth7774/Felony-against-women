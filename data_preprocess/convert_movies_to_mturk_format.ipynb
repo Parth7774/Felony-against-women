{
 "cells": [
  {
   "cell_type": "markdown",
   "id": "bright-advantage",
   "metadata": {},
   "source": [
    "# Here we want to convert data into the format needed for annotations"
   ]
  },
  {
   "cell_type": "code",
   "execution_count": 1,
   "id": "dress-provider",
   "metadata": {},
   "outputs": [],
   "source": [
    "import pandas as pd\n",
    "import re\n",
    "import numpy as np\n",
    "import glob\n",
    "import csv\n",
    "import hashlib"
   ]
  },
  {
   "cell_type": "code",
   "execution_count": 2,
   "id": "electrical-watson",
   "metadata": {},
   "outputs": [],
   "source": [
    "def main(path, destination):\n",
    "    df = pd.DataFrame()\n",
    "    batch = 1\n",
    "    with open('movie_data_to_upload.csv', 'w+', newline='') as csvfile:\n",
    "        fieldnames = ['batch_id','source','id1','text1','id2','text2','id3','text3','id4','text4','id5','text5','id6','text6','id7','text7','id8','text8','id9','text9','id10','text10','id11','text11','id12','text12','id13','text13','id14','text14','id15','text15','id16','text16','id17','text17','id18','text18','id19','text19','id20','text20']\n",
    "        writer = csv.DictWriter(csvfile, fieldnames=fieldnames)\n",
    "        writer.writeheader()\n",
    "        for filename in glob.glob(path+'*.csv'):\n",
    "            file = (filename.split(\"\\\\\"))[1]\n",
    "            m = hashlib.md5()\n",
    "            m.update(file.encode('UTF-8'))\n",
    "            movie_name_hex = int(str(int(m.hexdigest(), 16))[:10])\n",
    "            \n",
    "            df['batch_id'] =  movie_name_hex+batch\n",
    "\n",
    "            df['source'] = file\n",
    "\n",
    "            movie_df = pd.read_csv(filename)\n",
    "            movie_df['source'] = ''\n",
    "            movie_df['batch_id'] = ''\n",
    "            i=0\n",
    "            while i<len(movie_df):\n",
    "                movie_df_chunk = movie_df[i:i+20][['number_of_dialog','dialog']]\n",
    "                \n",
    "                movie_df[i:i+20]['source'] = str(file)\n",
    "                movie_df[i:i+20]['batch_id'] = str(movie_name_hex+batch)\n",
    "                \n",
    "                batch_dict = {}\n",
    "                batch_dict['batch_id'] = str(movie_name_hex+batch)\n",
    "                batch_dict['source'] = str(file)\n",
    "                \n",
    "                j=1\n",
    "                for index, row in movie_df_chunk.iterrows():\n",
    "                    batch_dict['id'+str(j)] = row.number_of_dialog\n",
    "                    batch_dict['text'+str(j)] = row.dialog\n",
    "                    j+=1\n",
    "                                    \n",
    "                writer.writerow(batch_dict)\n",
    "                batch+=1\n",
    "                i+=20\n",
    "            movie_df.to_csv(destination + '/' + file)"
   ]
  },
  {
   "cell_type": "code",
   "execution_count": 3,
   "id": "fiscal-admission",
   "metadata": {},
   "outputs": [],
   "source": [
    "main(path=\"CSV_3_combined_dialogs/\", destination='mturk_format')"
   ]
  },
  {
   "cell_type": "code",
   "execution_count": null,
   "id": "powerful-mouth",
   "metadata": {},
   "outputs": [],
   "source": []
  }
 ],
 "metadata": {
  "kernelspec": {
   "display_name": "Python 3",
   "language": "python",
   "name": "python3"
  },
  "language_info": {
   "codemirror_mode": {
    "name": "ipython",
    "version": 3
   },
   "file_extension": ".py",
   "mimetype": "text/x-python",
   "name": "python",
   "nbconvert_exporter": "python",
   "pygments_lexer": "ipython3",
   "version": "3.10.6"
  }
 },
 "nbformat": 4,
 "nbformat_minor": 5
}
